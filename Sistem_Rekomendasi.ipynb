{
  "nbformat": 4,
  "nbformat_minor": 0,
  "metadata": {
    "colab": {
      "provenance": []
    },
    "kernelspec": {
      "name": "python3",
      "display_name": "Python 3"
    },
    "language_info": {
      "name": "python"
    }
  },
  "cells": [
    {
      "cell_type": "code",
      "execution_count": null,
      "metadata": {
        "id": "TrAQRAlqW9Aj"
      },
      "outputs": [],
      "source": [
        "import pandas as pd\n",
        "import numpy as np\n",
        "from sklearn.feature_extraction.text import TfidfVectorizer\n",
        "from sklearn.metrics.pairwise import cosine_similarity\n",
        "import tensorflow as tf\n",
        "from tensorflow.keras.layers import Input, Dense, Embedding, GlobalAveragePooling1D\n",
        "from tensorflow.keras.models import Model\n",
        "from tensorflow.keras.preprocessing.text import Tokenizer\n",
        "from tensorflow.keras.preprocessing.sequence import pad_sequences\n",
        "from tensorflow.keras.layers import LSTM, Dropout\n",
        "from tensorflow.keras.callbacks import EarlyStopping\n",
        "from sklearn.metrics import classification_report"
      ]
    },
    {
      "cell_type": "markdown",
      "source": [
        "mengimport library yang dibutuhkan"
      ],
      "metadata": {
        "id": "J1NmTb2PxJKu"
      }
    },
    {
      "cell_type": "code",
      "source": [
        "df = pd.read_excel('java_tourism.xlsx')\n",
        "df.head()"
      ],
      "metadata": {
        "colab": {
          "base_uri": "https://localhost:8080/",
          "height": 536
        },
        "id": "ulUWf9whXGwZ",
        "outputId": "a2293eca-74c8-44a1-d480-2d4117af9f0f"
      },
      "execution_count": null,
      "outputs": [
        {
          "output_type": "execute_result",
          "data": {
            "text/plain": [
              "   id                                place_name  \\\n",
              "0   1                        4G Peak Gedangsari   \n",
              "1   2  Ade Irma Suryani Nasution Traffic Garden   \n",
              "2   3                 Agro Tourism Bhumi Merapi   \n",
              "3   4                 Air Mancur Menari Manahan   \n",
              "4   5                   Air Terjun Banyu Anjlok   \n",
              "\n",
              "                                           deskripsi  \\\n",
              "0  4G Peak Gedangsari adalah puncak wisata alam y...   \n",
              "1  Ade Irma Suryani Nasution Traffic Garden adala...   \n",
              "2  Agro Tourism Bhumi Merapi adalah destinasi wis...   \n",
              "3  Air Mancur Menari Manahan adalah atraksi wisat...   \n",
              "4  Air Terjun Banyu Anjlok adalah air terjun yang...   \n",
              "\n",
              "                                        reviews_link  rating  total_reviews  \\\n",
              "0  https://serpapi.com/search.json?data_id=0x2e7a...     4.4            353   \n",
              "1  https://serpapi.com/search.json?data_id=0x2e68...     4.4          13178   \n",
              "2  https://serpapi.com/search.json?data_id=0x2e7a...     4.5          13960   \n",
              "3  https://serpapi.com/search.json?data_id=0x2e7a...     4.5             80   \n",
              "4  https://serpapi.com/search.json?data_id=0x2e70...     4.5            240   \n",
              "\n",
              "                                             address          city  \\\n",
              "0  4HRC+3CV, Manggung, Ngalang, Gedang Sari, Gunu...  gunung kidul   \n",
              "1  Jl. Belitung No.1, Merdeka, Sumurbandung, Band...       bandung   \n",
              "2  Jl. Kaliurang No.Km.20, Sawungan, Hargobinangu...        sleman   \n",
              "3  Manahan, Kec. Banjarsari, Kota Surakarta, Jawa...     surakarta   \n",
              "4  Somosari VI, Somosari, Kec. Batealit, Kabupate...        jepara   \n",
              "\n",
              "      province                                        gambar  \n",
              "0   yogyakarta                        4G Peak Gedangsari.png  \n",
              "1   jawa barat  Ade Irma Suryani Nasution Traffic Garden.jpg  \n",
              "2   yogyakarta                 Agro Tourism Bhumi Merapi.jpg  \n",
              "3  jawa tengah                Air Mancur Menari Manahan.jpeg  \n",
              "4  jawa tengah                   Air Terjun Banyu Anjlok.png  "
            ],
            "text/html": [
              "\n",
              "  <div id=\"df-214d277b-ee5d-4130-bd12-ec59440f4e3c\" class=\"colab-df-container\">\n",
              "    <div>\n",
              "<style scoped>\n",
              "    .dataframe tbody tr th:only-of-type {\n",
              "        vertical-align: middle;\n",
              "    }\n",
              "\n",
              "    .dataframe tbody tr th {\n",
              "        vertical-align: top;\n",
              "    }\n",
              "\n",
              "    .dataframe thead th {\n",
              "        text-align: right;\n",
              "    }\n",
              "</style>\n",
              "<table border=\"1\" class=\"dataframe\">\n",
              "  <thead>\n",
              "    <tr style=\"text-align: right;\">\n",
              "      <th></th>\n",
              "      <th>id</th>\n",
              "      <th>place_name</th>\n",
              "      <th>deskripsi</th>\n",
              "      <th>reviews_link</th>\n",
              "      <th>rating</th>\n",
              "      <th>total_reviews</th>\n",
              "      <th>address</th>\n",
              "      <th>city</th>\n",
              "      <th>province</th>\n",
              "      <th>gambar</th>\n",
              "    </tr>\n",
              "  </thead>\n",
              "  <tbody>\n",
              "    <tr>\n",
              "      <th>0</th>\n",
              "      <td>1</td>\n",
              "      <td>4G Peak Gedangsari</td>\n",
              "      <td>4G Peak Gedangsari adalah puncak wisata alam y...</td>\n",
              "      <td>https://serpapi.com/search.json?data_id=0x2e7a...</td>\n",
              "      <td>4.4</td>\n",
              "      <td>353</td>\n",
              "      <td>4HRC+3CV, Manggung, Ngalang, Gedang Sari, Gunu...</td>\n",
              "      <td>gunung kidul</td>\n",
              "      <td>yogyakarta</td>\n",
              "      <td>4G Peak Gedangsari.png</td>\n",
              "    </tr>\n",
              "    <tr>\n",
              "      <th>1</th>\n",
              "      <td>2</td>\n",
              "      <td>Ade Irma Suryani Nasution Traffic Garden</td>\n",
              "      <td>Ade Irma Suryani Nasution Traffic Garden adala...</td>\n",
              "      <td>https://serpapi.com/search.json?data_id=0x2e68...</td>\n",
              "      <td>4.4</td>\n",
              "      <td>13178</td>\n",
              "      <td>Jl. Belitung No.1, Merdeka, Sumurbandung, Band...</td>\n",
              "      <td>bandung</td>\n",
              "      <td>jawa barat</td>\n",
              "      <td>Ade Irma Suryani Nasution Traffic Garden.jpg</td>\n",
              "    </tr>\n",
              "    <tr>\n",
              "      <th>2</th>\n",
              "      <td>3</td>\n",
              "      <td>Agro Tourism Bhumi Merapi</td>\n",
              "      <td>Agro Tourism Bhumi Merapi adalah destinasi wis...</td>\n",
              "      <td>https://serpapi.com/search.json?data_id=0x2e7a...</td>\n",
              "      <td>4.5</td>\n",
              "      <td>13960</td>\n",
              "      <td>Jl. Kaliurang No.Km.20, Sawungan, Hargobinangu...</td>\n",
              "      <td>sleman</td>\n",
              "      <td>yogyakarta</td>\n",
              "      <td>Agro Tourism Bhumi Merapi.jpg</td>\n",
              "    </tr>\n",
              "    <tr>\n",
              "      <th>3</th>\n",
              "      <td>4</td>\n",
              "      <td>Air Mancur Menari Manahan</td>\n",
              "      <td>Air Mancur Menari Manahan adalah atraksi wisat...</td>\n",
              "      <td>https://serpapi.com/search.json?data_id=0x2e7a...</td>\n",
              "      <td>4.5</td>\n",
              "      <td>80</td>\n",
              "      <td>Manahan, Kec. Banjarsari, Kota Surakarta, Jawa...</td>\n",
              "      <td>surakarta</td>\n",
              "      <td>jawa tengah</td>\n",
              "      <td>Air Mancur Menari Manahan.jpeg</td>\n",
              "    </tr>\n",
              "    <tr>\n",
              "      <th>4</th>\n",
              "      <td>5</td>\n",
              "      <td>Air Terjun Banyu Anjlok</td>\n",
              "      <td>Air Terjun Banyu Anjlok adalah air terjun yang...</td>\n",
              "      <td>https://serpapi.com/search.json?data_id=0x2e70...</td>\n",
              "      <td>4.5</td>\n",
              "      <td>240</td>\n",
              "      <td>Somosari VI, Somosari, Kec. Batealit, Kabupate...</td>\n",
              "      <td>jepara</td>\n",
              "      <td>jawa tengah</td>\n",
              "      <td>Air Terjun Banyu Anjlok.png</td>\n",
              "    </tr>\n",
              "  </tbody>\n",
              "</table>\n",
              "</div>\n",
              "    <div class=\"colab-df-buttons\">\n",
              "\n",
              "  <div class=\"colab-df-container\">\n",
              "    <button class=\"colab-df-convert\" onclick=\"convertToInteractive('df-214d277b-ee5d-4130-bd12-ec59440f4e3c')\"\n",
              "            title=\"Convert this dataframe to an interactive table.\"\n",
              "            style=\"display:none;\">\n",
              "\n",
              "  <svg xmlns=\"http://www.w3.org/2000/svg\" height=\"24px\" viewBox=\"0 -960 960 960\">\n",
              "    <path d=\"M120-120v-720h720v720H120Zm60-500h600v-160H180v160Zm220 220h160v-160H400v160Zm0 220h160v-160H400v160ZM180-400h160v-160H180v160Zm440 0h160v-160H620v160ZM180-180h160v-160H180v160Zm440 0h160v-160H620v160Z\"/>\n",
              "  </svg>\n",
              "    </button>\n",
              "\n",
              "  <style>\n",
              "    .colab-df-container {\n",
              "      display:flex;\n",
              "      gap: 12px;\n",
              "    }\n",
              "\n",
              "    .colab-df-convert {\n",
              "      background-color: #E8F0FE;\n",
              "      border: none;\n",
              "      border-radius: 50%;\n",
              "      cursor: pointer;\n",
              "      display: none;\n",
              "      fill: #1967D2;\n",
              "      height: 32px;\n",
              "      padding: 0 0 0 0;\n",
              "      width: 32px;\n",
              "    }\n",
              "\n",
              "    .colab-df-convert:hover {\n",
              "      background-color: #E2EBFA;\n",
              "      box-shadow: 0px 1px 2px rgba(60, 64, 67, 0.3), 0px 1px 3px 1px rgba(60, 64, 67, 0.15);\n",
              "      fill: #174EA6;\n",
              "    }\n",
              "\n",
              "    .colab-df-buttons div {\n",
              "      margin-bottom: 4px;\n",
              "    }\n",
              "\n",
              "    [theme=dark] .colab-df-convert {\n",
              "      background-color: #3B4455;\n",
              "      fill: #D2E3FC;\n",
              "    }\n",
              "\n",
              "    [theme=dark] .colab-df-convert:hover {\n",
              "      background-color: #434B5C;\n",
              "      box-shadow: 0px 1px 3px 1px rgba(0, 0, 0, 0.15);\n",
              "      filter: drop-shadow(0px 1px 2px rgba(0, 0, 0, 0.3));\n",
              "      fill: #FFFFFF;\n",
              "    }\n",
              "  </style>\n",
              "\n",
              "    <script>\n",
              "      const buttonEl =\n",
              "        document.querySelector('#df-214d277b-ee5d-4130-bd12-ec59440f4e3c button.colab-df-convert');\n",
              "      buttonEl.style.display =\n",
              "        google.colab.kernel.accessAllowed ? 'block' : 'none';\n",
              "\n",
              "      async function convertToInteractive(key) {\n",
              "        const element = document.querySelector('#df-214d277b-ee5d-4130-bd12-ec59440f4e3c');\n",
              "        const dataTable =\n",
              "          await google.colab.kernel.invokeFunction('convertToInteractive',\n",
              "                                                    [key], {});\n",
              "        if (!dataTable) return;\n",
              "\n",
              "        const docLinkHtml = 'Like what you see? Visit the ' +\n",
              "          '<a target=\"_blank\" href=https://colab.research.google.com/notebooks/data_table.ipynb>data table notebook</a>'\n",
              "          + ' to learn more about interactive tables.';\n",
              "        element.innerHTML = '';\n",
              "        dataTable['output_type'] = 'display_data';\n",
              "        await google.colab.output.renderOutput(dataTable, element);\n",
              "        const docLink = document.createElement('div');\n",
              "        docLink.innerHTML = docLinkHtml;\n",
              "        element.appendChild(docLink);\n",
              "      }\n",
              "    </script>\n",
              "  </div>\n",
              "\n",
              "\n",
              "    <div id=\"df-467370e1-2f54-4370-bd09-d202f09ff02e\">\n",
              "      <button class=\"colab-df-quickchart\" onclick=\"quickchart('df-467370e1-2f54-4370-bd09-d202f09ff02e')\"\n",
              "                title=\"Suggest charts\"\n",
              "                style=\"display:none;\">\n",
              "\n",
              "<svg xmlns=\"http://www.w3.org/2000/svg\" height=\"24px\"viewBox=\"0 0 24 24\"\n",
              "     width=\"24px\">\n",
              "    <g>\n",
              "        <path d=\"M19 3H5c-1.1 0-2 .9-2 2v14c0 1.1.9 2 2 2h14c1.1 0 2-.9 2-2V5c0-1.1-.9-2-2-2zM9 17H7v-7h2v7zm4 0h-2V7h2v10zm4 0h-2v-4h2v4z\"/>\n",
              "    </g>\n",
              "</svg>\n",
              "      </button>\n",
              "\n",
              "<style>\n",
              "  .colab-df-quickchart {\n",
              "      --bg-color: #E8F0FE;\n",
              "      --fill-color: #1967D2;\n",
              "      --hover-bg-color: #E2EBFA;\n",
              "      --hover-fill-color: #174EA6;\n",
              "      --disabled-fill-color: #AAA;\n",
              "      --disabled-bg-color: #DDD;\n",
              "  }\n",
              "\n",
              "  [theme=dark] .colab-df-quickchart {\n",
              "      --bg-color: #3B4455;\n",
              "      --fill-color: #D2E3FC;\n",
              "      --hover-bg-color: #434B5C;\n",
              "      --hover-fill-color: #FFFFFF;\n",
              "      --disabled-bg-color: #3B4455;\n",
              "      --disabled-fill-color: #666;\n",
              "  }\n",
              "\n",
              "  .colab-df-quickchart {\n",
              "    background-color: var(--bg-color);\n",
              "    border: none;\n",
              "    border-radius: 50%;\n",
              "    cursor: pointer;\n",
              "    display: none;\n",
              "    fill: var(--fill-color);\n",
              "    height: 32px;\n",
              "    padding: 0;\n",
              "    width: 32px;\n",
              "  }\n",
              "\n",
              "  .colab-df-quickchart:hover {\n",
              "    background-color: var(--hover-bg-color);\n",
              "    box-shadow: 0 1px 2px rgba(60, 64, 67, 0.3), 0 1px 3px 1px rgba(60, 64, 67, 0.15);\n",
              "    fill: var(--button-hover-fill-color);\n",
              "  }\n",
              "\n",
              "  .colab-df-quickchart-complete:disabled,\n",
              "  .colab-df-quickchart-complete:disabled:hover {\n",
              "    background-color: var(--disabled-bg-color);\n",
              "    fill: var(--disabled-fill-color);\n",
              "    box-shadow: none;\n",
              "  }\n",
              "\n",
              "  .colab-df-spinner {\n",
              "    border: 2px solid var(--fill-color);\n",
              "    border-color: transparent;\n",
              "    border-bottom-color: var(--fill-color);\n",
              "    animation:\n",
              "      spin 1s steps(1) infinite;\n",
              "  }\n",
              "\n",
              "  @keyframes spin {\n",
              "    0% {\n",
              "      border-color: transparent;\n",
              "      border-bottom-color: var(--fill-color);\n",
              "      border-left-color: var(--fill-color);\n",
              "    }\n",
              "    20% {\n",
              "      border-color: transparent;\n",
              "      border-left-color: var(--fill-color);\n",
              "      border-top-color: var(--fill-color);\n",
              "    }\n",
              "    30% {\n",
              "      border-color: transparent;\n",
              "      border-left-color: var(--fill-color);\n",
              "      border-top-color: var(--fill-color);\n",
              "      border-right-color: var(--fill-color);\n",
              "    }\n",
              "    40% {\n",
              "      border-color: transparent;\n",
              "      border-right-color: var(--fill-color);\n",
              "      border-top-color: var(--fill-color);\n",
              "    }\n",
              "    60% {\n",
              "      border-color: transparent;\n",
              "      border-right-color: var(--fill-color);\n",
              "    }\n",
              "    80% {\n",
              "      border-color: transparent;\n",
              "      border-right-color: var(--fill-color);\n",
              "      border-bottom-color: var(--fill-color);\n",
              "    }\n",
              "    90% {\n",
              "      border-color: transparent;\n",
              "      border-bottom-color: var(--fill-color);\n",
              "    }\n",
              "  }\n",
              "</style>\n",
              "\n",
              "      <script>\n",
              "        async function quickchart(key) {\n",
              "          const quickchartButtonEl =\n",
              "            document.querySelector('#' + key + ' button');\n",
              "          quickchartButtonEl.disabled = true;  // To prevent multiple clicks.\n",
              "          quickchartButtonEl.classList.add('colab-df-spinner');\n",
              "          try {\n",
              "            const charts = await google.colab.kernel.invokeFunction(\n",
              "                'suggestCharts', [key], {});\n",
              "          } catch (error) {\n",
              "            console.error('Error during call to suggestCharts:', error);\n",
              "          }\n",
              "          quickchartButtonEl.classList.remove('colab-df-spinner');\n",
              "          quickchartButtonEl.classList.add('colab-df-quickchart-complete');\n",
              "        }\n",
              "        (() => {\n",
              "          let quickchartButtonEl =\n",
              "            document.querySelector('#df-467370e1-2f54-4370-bd09-d202f09ff02e button');\n",
              "          quickchartButtonEl.style.display =\n",
              "            google.colab.kernel.accessAllowed ? 'block' : 'none';\n",
              "        })();\n",
              "      </script>\n",
              "    </div>\n",
              "\n",
              "    </div>\n",
              "  </div>\n"
            ],
            "application/vnd.google.colaboratory.intrinsic+json": {
              "type": "dataframe",
              "variable_name": "df",
              "summary": "{\n  \"name\": \"df\",\n  \"rows\": 868,\n  \"fields\": [\n    {\n      \"column\": \"id\",\n      \"properties\": {\n        \"dtype\": \"number\",\n        \"std\": 250,\n        \"min\": 1,\n        \"max\": 868,\n        \"num_unique_values\": 868,\n        \"samples\": [\n          395,\n          67,\n          496\n        ],\n        \"semantic_type\": \"\",\n        \"description\": \"\"\n      }\n    },\n    {\n      \"column\": \"place_name\",\n      \"properties\": {\n        \"dtype\": \"string\",\n        \"num_unique_values\": 868,\n        \"samples\": [\n          \"Maha Sky Batu Angkruk\",\n          \"Brakseng\",\n          \"Pantai Ngedan\"\n        ],\n        \"semantic_type\": \"\",\n        \"description\": \"\"\n      }\n    },\n    {\n      \"column\": \"deskripsi\",\n      \"properties\": {\n        \"dtype\": \"string\",\n        \"num_unique_values\": 868,\n        \"samples\": [\n          \"Maha Sky Batu Angkruk adalah destinasi wisata buatan yang menawarkan pemandangan indah dari ketinggian, dilengkapi dengan spot foto instagramable dan kafe. Pengunjung dapat menikmati panorama pegunungan dan perkotaan yang membentang luas, terutama saat matahari terbenam. Desainnya yang modern dan fasilitas yang nyaman menjadikan tempat ini pilihan populer untuk bersantai sambil menikmati keindahan alam dengan sentuhan artistik.\",\n          \"Brakseng adalah sebuah bukit di daerah Batu yang menawarkan pemandangan alam yang luas dan asri, terutama perkebunan sayur. Sebagai wisata alam, tempat ini cocok untuk menikmati udara segar, berfoto, dan melihat aktivitas pertanian warga lokal.\",\n          \"Pantai Ngedan adalah pantai wisata alam yang tersembunyi dengan pasir putih yang bersih dan air laut yang jernih. Dikelilingi oleh tebing-tebing karang yang tinggi, pantai ini menawarkan suasana yang tenang dan alami. Cocok untuk bersantai, berjemur, atau sekadar menikmati keindahan alam yang masih perawan.\"\n        ],\n        \"semantic_type\": \"\",\n        \"description\": \"\"\n      }\n    },\n    {\n      \"column\": \"reviews_link\",\n      \"properties\": {\n        \"dtype\": \"string\",\n        \"num_unique_values\": 868,\n        \"samples\": [\n          \"https://serpapi.com/search.json?data_id=0x2e700d35c9e26cef%3A0xd8dc87e2a348a3df&engine=google_maps_reviews&hl=en\",\n          \"https://serpapi.com/search.json?data_id=0x2e7879501006adb3%3A0x52cb5f75d2f60c8e&engine=google_maps_reviews&hl=en\",\n          \"https://serpapi.com/search.json?data_id=0x2e7baf8b3e1c7f97%3A0x9c125e8c489003c3&engine=google_maps_reviews&hl=en\"\n        ],\n        \"semantic_type\": \"\",\n        \"description\": \"\"\n      }\n    },\n    {\n      \"column\": \"rating\",\n      \"properties\": {\n        \"dtype\": \"number\",\n        \"std\": 0.23627382555118193,\n        \"min\": 2.5,\n        \"max\": 5.0,\n        \"num_unique_values\": 17,\n        \"samples\": [\n          4.4,\n          4.5,\n          4.2\n        ],\n        \"semantic_type\": \"\",\n        \"description\": \"\"\n      }\n    },\n    {\n      \"column\": \"total_reviews\",\n      \"properties\": {\n        \"dtype\": \"number\",\n        \"std\": 8968,\n        \"min\": 1,\n        \"max\": 97549,\n        \"num_unique_values\": 726,\n        \"samples\": [\n          3854,\n          559,\n          723\n        ],\n        \"semantic_type\": \"\",\n        \"description\": \"\"\n      }\n    },\n    {\n      \"column\": \"address\",\n      \"properties\": {\n        \"dtype\": \"string\",\n        \"num_unique_values\": 860,\n        \"samples\": [\n          \"J4XW+RCG, Dusun III, Gununglurah, Kec. Cilongok, Kabupaten Banyumas, Jawa Tengah 53162, Indonesia\",\n          \"Q58X+F2R, Rowo Seneng, Hutan, Gesing, Kandangan, Temanggung Regency, Central Java 56281, Indonesia\",\n          \"Patengan, Rancabali, Bandung Regency, West Java 40973, Indonesia\"\n        ],\n        \"semantic_type\": \"\",\n        \"description\": \"\"\n      }\n    },\n    {\n      \"column\": \"city\",\n      \"properties\": {\n        \"dtype\": \"category\",\n        \"num_unique_values\": 35,\n        \"samples\": [\n          \"kuningan\",\n          \"madura\",\n          \"pangandaran\"\n        ],\n        \"semantic_type\": \"\",\n        \"description\": \"\"\n      }\n    },\n    {\n      \"column\": \"province\",\n      \"properties\": {\n        \"dtype\": \"category\",\n        \"num_unique_values\": 5,\n        \"samples\": [\n          \"jawa barat\",\n          \"banten\",\n          \"jawa tengah\"\n        ],\n        \"semantic_type\": \"\",\n        \"description\": \"\"\n      }\n    },\n    {\n      \"column\": \"gambar\",\n      \"properties\": {\n        \"dtype\": \"string\",\n        \"num_unique_values\": 868,\n        \"samples\": [\n          \"Maha Sky Batu Angkruk.jpeg\",\n          \"Brakseng.jpg\",\n          \"Pantai Ngedan.png\"\n        ],\n        \"semantic_type\": \"\",\n        \"description\": \"\"\n      }\n    }\n  ]\n}"
            }
          },
          "metadata": {},
          "execution_count": 2
        }
      ]
    },
    {
      "cell_type": "code",
      "source": [
        "df.info()"
      ],
      "metadata": {
        "colab": {
          "base_uri": "https://localhost:8080/"
        },
        "id": "BwegMhxwXJif",
        "outputId": "5cafaec3-c53d-4fde-ae5d-131c04153c79"
      },
      "execution_count": null,
      "outputs": [
        {
          "output_type": "stream",
          "name": "stdout",
          "text": [
            "<class 'pandas.core.frame.DataFrame'>\n",
            "RangeIndex: 868 entries, 0 to 867\n",
            "Data columns (total 10 columns):\n",
            " #   Column         Non-Null Count  Dtype  \n",
            "---  ------         --------------  -----  \n",
            " 0   id             868 non-null    int64  \n",
            " 1   place_name     868 non-null    object \n",
            " 2   deskripsi      868 non-null    object \n",
            " 3   reviews_link   868 non-null    object \n",
            " 4   rating         868 non-null    float64\n",
            " 5   total_reviews  868 non-null    int64  \n",
            " 6   address        868 non-null    object \n",
            " 7   city           868 non-null    object \n",
            " 8   province       868 non-null    object \n",
            " 9   gambar         868 non-null    object \n",
            "dtypes: float64(1), int64(2), object(7)\n",
            "memory usage: 67.9+ KB\n"
          ]
        }
      ]
    },
    {
      "cell_type": "markdown",
      "source": [
        "Dataset ini terdiri dari 868 entri yang mencakup informasi mengenai tempat wisata di Pulau Jawa, dengan 10 kolom yang meliputi id,place_name, deskripsi, reviews_link, rating, total_reviews, address, city, province, dan gambar"
      ],
      "metadata": {
        "id": "0-MZ71A5wIP-"
      }
    },
    {
      "cell_type": "code",
      "source": [
        "keywords = {\n",
        "    'alam': ['gunung', 'pantai', 'danau', 'air terjun', 'hutan', 'taman nasional', 'cagar alam', 'gua', 'pemandangan', 'alam', 'sungai', 'laut'],\n",
        "    'buatan': ['taman hiburan', 'museum', 'monumen', 'tempat wisata', 'kebun binatang', 'waterpark', 'kolam renang', 'gedung', 'bangunan', 'buatan', 'buatan manusia', 'theme park'],\n",
        "    'budaya': ['budaya', 'tradisional', 'adat', 'seni', 'pertunjukan', 'sejarah', 'kerajaan', 'festival', 'tari', 'musik', 'candi', 'batik', 'keraton'],\n",
        "    'religi': ['masjid', 'gereja', 'pura', 'vihara', 'kuil', 'makam', 'ziarah', 'religi', 'agama', 'keramat', 'rohani'],\n",
        "    'edukasi': ['edukasi', 'pendidikan', 'belajar', 'ilmu pengetahuan', 'sekolah', 'universitas', 'planetarium', 'observatorium', 'arkeologi', 'penelitian', 'sains', 'iptek']\n",
        "}"
      ],
      "metadata": {
        "id": "VjYt6ls1XMbt"
      },
      "execution_count": null,
      "outputs": []
    },
    {
      "cell_type": "markdown",
      "source": [
        "membuat kata kunci untuk memberikan lebel tipe wisiata"
      ],
      "metadata": {
        "id": "F3Um6wAOwKUd"
      }
    },
    {
      "cell_type": "code",
      "source": [
        "def tag_labels(description):\n",
        "    description = description.lower()\n",
        "    labels = {key: 0 for key in keywords.keys()}\n",
        "    for label, kws in keywords.items():\n",
        "        for kw in kws:\n",
        "            if kw in description:\n",
        "                labels[label] = 1\n",
        "                break\n",
        "    return labels\n",
        "\n",
        "label_df = df['deskripsi'].apply(tag_labels).apply(pd.Series)\n",
        "df = pd.concat([df, label_df], axis=1)\n",
        "\n",
        "print(\"Data dengan label tipe wisata:\")"
      ],
      "metadata": {
        "id": "BWyMcmpeXPHj"
      },
      "execution_count": null,
      "outputs": []
    },
    {
      "cell_type": "markdown",
      "source": [
        "Kode di atas berfungsi untuk mengklasifikasikan deskripsi tempat wisata ke dalam berbagai kategori seperti alam, buatan, budaya, religi, dan edukasi berdasarkan kata kunci yang ada dalam deskripsi. Setiap kali sebuah kata kunci ditemukan dalam deskripsi, label untuk kategori tersebut diberi nilai 1. Setelah itu, label-label ini ditambahkan ke dalam DataFrame, sehingga setiap tempat wisata memiliki kolom yang menunjukkan tipe wisata yang relevan dengan deskripsinya. Ini memudahkan sistem untuk mengidentifikasi dan mengategorikan tempat wisata secara otomatis."
      ],
      "metadata": {
        "id": "Yj4ygmfiwecz"
      }
    },
    {
      "cell_type": "code",
      "source": [
        "df.head()"
      ],
      "metadata": {
        "colab": {
          "base_uri": "https://localhost:8080/",
          "height": 677
        },
        "id": "FItzie7bc3fz",
        "outputId": "499b8600-4541-442b-c4f5-b7d248515a05"
      },
      "execution_count": null,
      "outputs": [
        {
          "output_type": "execute_result",
          "data": {
            "text/plain": [
              "   id                                place_name  \\\n",
              "0   1                        4G Peak Gedangsari   \n",
              "1   2  Ade Irma Suryani Nasution Traffic Garden   \n",
              "2   3                 Agro Tourism Bhumi Merapi   \n",
              "3   4                 Air Mancur Menari Manahan   \n",
              "4   5                   Air Terjun Banyu Anjlok   \n",
              "\n",
              "                                           deskripsi  \\\n",
              "0  4G Peak Gedangsari adalah puncak wisata alam y...   \n",
              "1  Ade Irma Suryani Nasution Traffic Garden adala...   \n",
              "2  Agro Tourism Bhumi Merapi adalah destinasi wis...   \n",
              "3  Air Mancur Menari Manahan adalah atraksi wisat...   \n",
              "4  Air Terjun Banyu Anjlok adalah air terjun yang...   \n",
              "\n",
              "                                        reviews_link  rating  total_reviews  \\\n",
              "0  https://serpapi.com/search.json?data_id=0x2e7a...     4.4            353   \n",
              "1  https://serpapi.com/search.json?data_id=0x2e68...     4.4          13178   \n",
              "2  https://serpapi.com/search.json?data_id=0x2e7a...     4.5          13960   \n",
              "3  https://serpapi.com/search.json?data_id=0x2e7a...     4.5             80   \n",
              "4  https://serpapi.com/search.json?data_id=0x2e70...     4.5            240   \n",
              "\n",
              "                                             address          city  \\\n",
              "0  4HRC+3CV, Manggung, Ngalang, Gedang Sari, Gunu...  gunung kidul   \n",
              "1  Jl. Belitung No.1, Merdeka, Sumurbandung, Band...       bandung   \n",
              "2  Jl. Kaliurang No.Km.20, Sawungan, Hargobinangu...        sleman   \n",
              "3  Manahan, Kec. Banjarsari, Kota Surakarta, Jawa...     surakarta   \n",
              "4  Somosari VI, Somosari, Kec. Batealit, Kabupate...        jepara   \n",
              "\n",
              "      province                                        gambar  alam  buatan  \\\n",
              "0   yogyakarta                        4G Peak Gedangsari.png     1       0   \n",
              "1   jawa barat  Ade Irma Suryani Nasution Traffic Garden.jpg     0       0   \n",
              "2   yogyakarta                 Agro Tourism Bhumi Merapi.jpg     0       0   \n",
              "3  jawa tengah                Air Mancur Menari Manahan.jpeg     1       1   \n",
              "4  jawa tengah                   Air Terjun Banyu Anjlok.png     1       0   \n",
              "\n",
              "   budaya  religi  edukasi  \n",
              "0       0       0        0  \n",
              "1       0       0        1  \n",
              "2       0       0        1  \n",
              "3       1       0        0  \n",
              "4       0       0        0  "
            ],
            "text/html": [
              "\n",
              "  <div id=\"df-1a850fc0-ddd6-47ec-a440-6019c41b995b\" class=\"colab-df-container\">\n",
              "    <div>\n",
              "<style scoped>\n",
              "    .dataframe tbody tr th:only-of-type {\n",
              "        vertical-align: middle;\n",
              "    }\n",
              "\n",
              "    .dataframe tbody tr th {\n",
              "        vertical-align: top;\n",
              "    }\n",
              "\n",
              "    .dataframe thead th {\n",
              "        text-align: right;\n",
              "    }\n",
              "</style>\n",
              "<table border=\"1\" class=\"dataframe\">\n",
              "  <thead>\n",
              "    <tr style=\"text-align: right;\">\n",
              "      <th></th>\n",
              "      <th>id</th>\n",
              "      <th>place_name</th>\n",
              "      <th>deskripsi</th>\n",
              "      <th>reviews_link</th>\n",
              "      <th>rating</th>\n",
              "      <th>total_reviews</th>\n",
              "      <th>address</th>\n",
              "      <th>city</th>\n",
              "      <th>province</th>\n",
              "      <th>gambar</th>\n",
              "      <th>alam</th>\n",
              "      <th>buatan</th>\n",
              "      <th>budaya</th>\n",
              "      <th>religi</th>\n",
              "      <th>edukasi</th>\n",
              "    </tr>\n",
              "  </thead>\n",
              "  <tbody>\n",
              "    <tr>\n",
              "      <th>0</th>\n",
              "      <td>1</td>\n",
              "      <td>4G Peak Gedangsari</td>\n",
              "      <td>4G Peak Gedangsari adalah puncak wisata alam y...</td>\n",
              "      <td>https://serpapi.com/search.json?data_id=0x2e7a...</td>\n",
              "      <td>4.4</td>\n",
              "      <td>353</td>\n",
              "      <td>4HRC+3CV, Manggung, Ngalang, Gedang Sari, Gunu...</td>\n",
              "      <td>gunung kidul</td>\n",
              "      <td>yogyakarta</td>\n",
              "      <td>4G Peak Gedangsari.png</td>\n",
              "      <td>1</td>\n",
              "      <td>0</td>\n",
              "      <td>0</td>\n",
              "      <td>0</td>\n",
              "      <td>0</td>\n",
              "    </tr>\n",
              "    <tr>\n",
              "      <th>1</th>\n",
              "      <td>2</td>\n",
              "      <td>Ade Irma Suryani Nasution Traffic Garden</td>\n",
              "      <td>Ade Irma Suryani Nasution Traffic Garden adala...</td>\n",
              "      <td>https://serpapi.com/search.json?data_id=0x2e68...</td>\n",
              "      <td>4.4</td>\n",
              "      <td>13178</td>\n",
              "      <td>Jl. Belitung No.1, Merdeka, Sumurbandung, Band...</td>\n",
              "      <td>bandung</td>\n",
              "      <td>jawa barat</td>\n",
              "      <td>Ade Irma Suryani Nasution Traffic Garden.jpg</td>\n",
              "      <td>0</td>\n",
              "      <td>0</td>\n",
              "      <td>0</td>\n",
              "      <td>0</td>\n",
              "      <td>1</td>\n",
              "    </tr>\n",
              "    <tr>\n",
              "      <th>2</th>\n",
              "      <td>3</td>\n",
              "      <td>Agro Tourism Bhumi Merapi</td>\n",
              "      <td>Agro Tourism Bhumi Merapi adalah destinasi wis...</td>\n",
              "      <td>https://serpapi.com/search.json?data_id=0x2e7a...</td>\n",
              "      <td>4.5</td>\n",
              "      <td>13960</td>\n",
              "      <td>Jl. Kaliurang No.Km.20, Sawungan, Hargobinangu...</td>\n",
              "      <td>sleman</td>\n",
              "      <td>yogyakarta</td>\n",
              "      <td>Agro Tourism Bhumi Merapi.jpg</td>\n",
              "      <td>0</td>\n",
              "      <td>0</td>\n",
              "      <td>0</td>\n",
              "      <td>0</td>\n",
              "      <td>1</td>\n",
              "    </tr>\n",
              "    <tr>\n",
              "      <th>3</th>\n",
              "      <td>4</td>\n",
              "      <td>Air Mancur Menari Manahan</td>\n",
              "      <td>Air Mancur Menari Manahan adalah atraksi wisat...</td>\n",
              "      <td>https://serpapi.com/search.json?data_id=0x2e7a...</td>\n",
              "      <td>4.5</td>\n",
              "      <td>80</td>\n",
              "      <td>Manahan, Kec. Banjarsari, Kota Surakarta, Jawa...</td>\n",
              "      <td>surakarta</td>\n",
              "      <td>jawa tengah</td>\n",
              "      <td>Air Mancur Menari Manahan.jpeg</td>\n",
              "      <td>1</td>\n",
              "      <td>1</td>\n",
              "      <td>1</td>\n",
              "      <td>0</td>\n",
              "      <td>0</td>\n",
              "    </tr>\n",
              "    <tr>\n",
              "      <th>4</th>\n",
              "      <td>5</td>\n",
              "      <td>Air Terjun Banyu Anjlok</td>\n",
              "      <td>Air Terjun Banyu Anjlok adalah air terjun yang...</td>\n",
              "      <td>https://serpapi.com/search.json?data_id=0x2e70...</td>\n",
              "      <td>4.5</td>\n",
              "      <td>240</td>\n",
              "      <td>Somosari VI, Somosari, Kec. Batealit, Kabupate...</td>\n",
              "      <td>jepara</td>\n",
              "      <td>jawa tengah</td>\n",
              "      <td>Air Terjun Banyu Anjlok.png</td>\n",
              "      <td>1</td>\n",
              "      <td>0</td>\n",
              "      <td>0</td>\n",
              "      <td>0</td>\n",
              "      <td>0</td>\n",
              "    </tr>\n",
              "  </tbody>\n",
              "</table>\n",
              "</div>\n",
              "    <div class=\"colab-df-buttons\">\n",
              "\n",
              "  <div class=\"colab-df-container\">\n",
              "    <button class=\"colab-df-convert\" onclick=\"convertToInteractive('df-1a850fc0-ddd6-47ec-a440-6019c41b995b')\"\n",
              "            title=\"Convert this dataframe to an interactive table.\"\n",
              "            style=\"display:none;\">\n",
              "\n",
              "  <svg xmlns=\"http://www.w3.org/2000/svg\" height=\"24px\" viewBox=\"0 -960 960 960\">\n",
              "    <path d=\"M120-120v-720h720v720H120Zm60-500h600v-160H180v160Zm220 220h160v-160H400v160Zm0 220h160v-160H400v160ZM180-400h160v-160H180v160Zm440 0h160v-160H620v160ZM180-180h160v-160H180v160Zm440 0h160v-160H620v160Z\"/>\n",
              "  </svg>\n",
              "    </button>\n",
              "\n",
              "  <style>\n",
              "    .colab-df-container {\n",
              "      display:flex;\n",
              "      gap: 12px;\n",
              "    }\n",
              "\n",
              "    .colab-df-convert {\n",
              "      background-color: #E8F0FE;\n",
              "      border: none;\n",
              "      border-radius: 50%;\n",
              "      cursor: pointer;\n",
              "      display: none;\n",
              "      fill: #1967D2;\n",
              "      height: 32px;\n",
              "      padding: 0 0 0 0;\n",
              "      width: 32px;\n",
              "    }\n",
              "\n",
              "    .colab-df-convert:hover {\n",
              "      background-color: #E2EBFA;\n",
              "      box-shadow: 0px 1px 2px rgba(60, 64, 67, 0.3), 0px 1px 3px 1px rgba(60, 64, 67, 0.15);\n",
              "      fill: #174EA6;\n",
              "    }\n",
              "\n",
              "    .colab-df-buttons div {\n",
              "      margin-bottom: 4px;\n",
              "    }\n",
              "\n",
              "    [theme=dark] .colab-df-convert {\n",
              "      background-color: #3B4455;\n",
              "      fill: #D2E3FC;\n",
              "    }\n",
              "\n",
              "    [theme=dark] .colab-df-convert:hover {\n",
              "      background-color: #434B5C;\n",
              "      box-shadow: 0px 1px 3px 1px rgba(0, 0, 0, 0.15);\n",
              "      filter: drop-shadow(0px 1px 2px rgba(0, 0, 0, 0.3));\n",
              "      fill: #FFFFFF;\n",
              "    }\n",
              "  </style>\n",
              "\n",
              "    <script>\n",
              "      const buttonEl =\n",
              "        document.querySelector('#df-1a850fc0-ddd6-47ec-a440-6019c41b995b button.colab-df-convert');\n",
              "      buttonEl.style.display =\n",
              "        google.colab.kernel.accessAllowed ? 'block' : 'none';\n",
              "\n",
              "      async function convertToInteractive(key) {\n",
              "        const element = document.querySelector('#df-1a850fc0-ddd6-47ec-a440-6019c41b995b');\n",
              "        const dataTable =\n",
              "          await google.colab.kernel.invokeFunction('convertToInteractive',\n",
              "                                                    [key], {});\n",
              "        if (!dataTable) return;\n",
              "\n",
              "        const docLinkHtml = 'Like what you see? Visit the ' +\n",
              "          '<a target=\"_blank\" href=https://colab.research.google.com/notebooks/data_table.ipynb>data table notebook</a>'\n",
              "          + ' to learn more about interactive tables.';\n",
              "        element.innerHTML = '';\n",
              "        dataTable['output_type'] = 'display_data';\n",
              "        await google.colab.output.renderOutput(dataTable, element);\n",
              "        const docLink = document.createElement('div');\n",
              "        docLink.innerHTML = docLinkHtml;\n",
              "        element.appendChild(docLink);\n",
              "      }\n",
              "    </script>\n",
              "  </div>\n",
              "\n",
              "\n",
              "    <div id=\"df-d2acb930-c2d9-4462-924d-09ec292fe51d\">\n",
              "      <button class=\"colab-df-quickchart\" onclick=\"quickchart('df-d2acb930-c2d9-4462-924d-09ec292fe51d')\"\n",
              "                title=\"Suggest charts\"\n",
              "                style=\"display:none;\">\n",
              "\n",
              "<svg xmlns=\"http://www.w3.org/2000/svg\" height=\"24px\"viewBox=\"0 0 24 24\"\n",
              "     width=\"24px\">\n",
              "    <g>\n",
              "        <path d=\"M19 3H5c-1.1 0-2 .9-2 2v14c0 1.1.9 2 2 2h14c1.1 0 2-.9 2-2V5c0-1.1-.9-2-2-2zM9 17H7v-7h2v7zm4 0h-2V7h2v10zm4 0h-2v-4h2v4z\"/>\n",
              "    </g>\n",
              "</svg>\n",
              "      </button>\n",
              "\n",
              "<style>\n",
              "  .colab-df-quickchart {\n",
              "      --bg-color: #E8F0FE;\n",
              "      --fill-color: #1967D2;\n",
              "      --hover-bg-color: #E2EBFA;\n",
              "      --hover-fill-color: #174EA6;\n",
              "      --disabled-fill-color: #AAA;\n",
              "      --disabled-bg-color: #DDD;\n",
              "  }\n",
              "\n",
              "  [theme=dark] .colab-df-quickchart {\n",
              "      --bg-color: #3B4455;\n",
              "      --fill-color: #D2E3FC;\n",
              "      --hover-bg-color: #434B5C;\n",
              "      --hover-fill-color: #FFFFFF;\n",
              "      --disabled-bg-color: #3B4455;\n",
              "      --disabled-fill-color: #666;\n",
              "  }\n",
              "\n",
              "  .colab-df-quickchart {\n",
              "    background-color: var(--bg-color);\n",
              "    border: none;\n",
              "    border-radius: 50%;\n",
              "    cursor: pointer;\n",
              "    display: none;\n",
              "    fill: var(--fill-color);\n",
              "    height: 32px;\n",
              "    padding: 0;\n",
              "    width: 32px;\n",
              "  }\n",
              "\n",
              "  .colab-df-quickchart:hover {\n",
              "    background-color: var(--hover-bg-color);\n",
              "    box-shadow: 0 1px 2px rgba(60, 64, 67, 0.3), 0 1px 3px 1px rgba(60, 64, 67, 0.15);\n",
              "    fill: var(--button-hover-fill-color);\n",
              "  }\n",
              "\n",
              "  .colab-df-quickchart-complete:disabled,\n",
              "  .colab-df-quickchart-complete:disabled:hover {\n",
              "    background-color: var(--disabled-bg-color);\n",
              "    fill: var(--disabled-fill-color);\n",
              "    box-shadow: none;\n",
              "  }\n",
              "\n",
              "  .colab-df-spinner {\n",
              "    border: 2px solid var(--fill-color);\n",
              "    border-color: transparent;\n",
              "    border-bottom-color: var(--fill-color);\n",
              "    animation:\n",
              "      spin 1s steps(1) infinite;\n",
              "  }\n",
              "\n",
              "  @keyframes spin {\n",
              "    0% {\n",
              "      border-color: transparent;\n",
              "      border-bottom-color: var(--fill-color);\n",
              "      border-left-color: var(--fill-color);\n",
              "    }\n",
              "    20% {\n",
              "      border-color: transparent;\n",
              "      border-left-color: var(--fill-color);\n",
              "      border-top-color: var(--fill-color);\n",
              "    }\n",
              "    30% {\n",
              "      border-color: transparent;\n",
              "      border-left-color: var(--fill-color);\n",
              "      border-top-color: var(--fill-color);\n",
              "      border-right-color: var(--fill-color);\n",
              "    }\n",
              "    40% {\n",
              "      border-color: transparent;\n",
              "      border-right-color: var(--fill-color);\n",
              "      border-top-color: var(--fill-color);\n",
              "    }\n",
              "    60% {\n",
              "      border-color: transparent;\n",
              "      border-right-color: var(--fill-color);\n",
              "    }\n",
              "    80% {\n",
              "      border-color: transparent;\n",
              "      border-right-color: var(--fill-color);\n",
              "      border-bottom-color: var(--fill-color);\n",
              "    }\n",
              "    90% {\n",
              "      border-color: transparent;\n",
              "      border-bottom-color: var(--fill-color);\n",
              "    }\n",
              "  }\n",
              "</style>\n",
              "\n",
              "      <script>\n",
              "        async function quickchart(key) {\n",
              "          const quickchartButtonEl =\n",
              "            document.querySelector('#' + key + ' button');\n",
              "          quickchartButtonEl.disabled = true;  // To prevent multiple clicks.\n",
              "          quickchartButtonEl.classList.add('colab-df-spinner');\n",
              "          try {\n",
              "            const charts = await google.colab.kernel.invokeFunction(\n",
              "                'suggestCharts', [key], {});\n",
              "          } catch (error) {\n",
              "            console.error('Error during call to suggestCharts:', error);\n",
              "          }\n",
              "          quickchartButtonEl.classList.remove('colab-df-spinner');\n",
              "          quickchartButtonEl.classList.add('colab-df-quickchart-complete');\n",
              "        }\n",
              "        (() => {\n",
              "          let quickchartButtonEl =\n",
              "            document.querySelector('#df-d2acb930-c2d9-4462-924d-09ec292fe51d button');\n",
              "          quickchartButtonEl.style.display =\n",
              "            google.colab.kernel.accessAllowed ? 'block' : 'none';\n",
              "        })();\n",
              "      </script>\n",
              "    </div>\n",
              "\n",
              "    </div>\n",
              "  </div>\n"
            ],
            "application/vnd.google.colaboratory.intrinsic+json": {
              "type": "dataframe",
              "variable_name": "df",
              "summary": "{\n  \"name\": \"df\",\n  \"rows\": 868,\n  \"fields\": [\n    {\n      \"column\": \"id\",\n      \"properties\": {\n        \"dtype\": \"number\",\n        \"std\": 250,\n        \"min\": 1,\n        \"max\": 868,\n        \"num_unique_values\": 868,\n        \"samples\": [\n          395,\n          67,\n          496\n        ],\n        \"semantic_type\": \"\",\n        \"description\": \"\"\n      }\n    },\n    {\n      \"column\": \"place_name\",\n      \"properties\": {\n        \"dtype\": \"string\",\n        \"num_unique_values\": 868,\n        \"samples\": [\n          \"Maha Sky Batu Angkruk\",\n          \"Brakseng\",\n          \"Pantai Ngedan\"\n        ],\n        \"semantic_type\": \"\",\n        \"description\": \"\"\n      }\n    },\n    {\n      \"column\": \"deskripsi\",\n      \"properties\": {\n        \"dtype\": \"string\",\n        \"num_unique_values\": 868,\n        \"samples\": [\n          \"Maha Sky Batu Angkruk adalah destinasi wisata buatan yang menawarkan pemandangan indah dari ketinggian, dilengkapi dengan spot foto instagramable dan kafe. Pengunjung dapat menikmati panorama pegunungan dan perkotaan yang membentang luas, terutama saat matahari terbenam. Desainnya yang modern dan fasilitas yang nyaman menjadikan tempat ini pilihan populer untuk bersantai sambil menikmati keindahan alam dengan sentuhan artistik.\",\n          \"Brakseng adalah sebuah bukit di daerah Batu yang menawarkan pemandangan alam yang luas dan asri, terutama perkebunan sayur. Sebagai wisata alam, tempat ini cocok untuk menikmati udara segar, berfoto, dan melihat aktivitas pertanian warga lokal.\",\n          \"Pantai Ngedan adalah pantai wisata alam yang tersembunyi dengan pasir putih yang bersih dan air laut yang jernih. Dikelilingi oleh tebing-tebing karang yang tinggi, pantai ini menawarkan suasana yang tenang dan alami. Cocok untuk bersantai, berjemur, atau sekadar menikmati keindahan alam yang masih perawan.\"\n        ],\n        \"semantic_type\": \"\",\n        \"description\": \"\"\n      }\n    },\n    {\n      \"column\": \"reviews_link\",\n      \"properties\": {\n        \"dtype\": \"string\",\n        \"num_unique_values\": 868,\n        \"samples\": [\n          \"https://serpapi.com/search.json?data_id=0x2e700d35c9e26cef%3A0xd8dc87e2a348a3df&engine=google_maps_reviews&hl=en\",\n          \"https://serpapi.com/search.json?data_id=0x2e7879501006adb3%3A0x52cb5f75d2f60c8e&engine=google_maps_reviews&hl=en\",\n          \"https://serpapi.com/search.json?data_id=0x2e7baf8b3e1c7f97%3A0x9c125e8c489003c3&engine=google_maps_reviews&hl=en\"\n        ],\n        \"semantic_type\": \"\",\n        \"description\": \"\"\n      }\n    },\n    {\n      \"column\": \"rating\",\n      \"properties\": {\n        \"dtype\": \"number\",\n        \"std\": 0.23627382555118193,\n        \"min\": 2.5,\n        \"max\": 5.0,\n        \"num_unique_values\": 17,\n        \"samples\": [\n          4.4,\n          4.5,\n          4.2\n        ],\n        \"semantic_type\": \"\",\n        \"description\": \"\"\n      }\n    },\n    {\n      \"column\": \"total_reviews\",\n      \"properties\": {\n        \"dtype\": \"number\",\n        \"std\": 8968,\n        \"min\": 1,\n        \"max\": 97549,\n        \"num_unique_values\": 726,\n        \"samples\": [\n          3854,\n          559,\n          723\n        ],\n        \"semantic_type\": \"\",\n        \"description\": \"\"\n      }\n    },\n    {\n      \"column\": \"address\",\n      \"properties\": {\n        \"dtype\": \"string\",\n        \"num_unique_values\": 860,\n        \"samples\": [\n          \"J4XW+RCG, Dusun III, Gununglurah, Kec. Cilongok, Kabupaten Banyumas, Jawa Tengah 53162, Indonesia\",\n          \"Q58X+F2R, Rowo Seneng, Hutan, Gesing, Kandangan, Temanggung Regency, Central Java 56281, Indonesia\",\n          \"Patengan, Rancabali, Bandung Regency, West Java 40973, Indonesia\"\n        ],\n        \"semantic_type\": \"\",\n        \"description\": \"\"\n      }\n    },\n    {\n      \"column\": \"city\",\n      \"properties\": {\n        \"dtype\": \"category\",\n        \"num_unique_values\": 35,\n        \"samples\": [\n          \"kuningan\",\n          \"madura\",\n          \"pangandaran\"\n        ],\n        \"semantic_type\": \"\",\n        \"description\": \"\"\n      }\n    },\n    {\n      \"column\": \"province\",\n      \"properties\": {\n        \"dtype\": \"category\",\n        \"num_unique_values\": 5,\n        \"samples\": [\n          \"jawa barat\",\n          \"banten\",\n          \"jawa tengah\"\n        ],\n        \"semantic_type\": \"\",\n        \"description\": \"\"\n      }\n    },\n    {\n      \"column\": \"gambar\",\n      \"properties\": {\n        \"dtype\": \"string\",\n        \"num_unique_values\": 868,\n        \"samples\": [\n          \"Maha Sky Batu Angkruk.jpeg\",\n          \"Brakseng.jpg\",\n          \"Pantai Ngedan.png\"\n        ],\n        \"semantic_type\": \"\",\n        \"description\": \"\"\n      }\n    },\n    {\n      \"column\": \"alam\",\n      \"properties\": {\n        \"dtype\": \"number\",\n        \"std\": 0,\n        \"min\": 0,\n        \"max\": 1,\n        \"num_unique_values\": 2,\n        \"samples\": [\n          0,\n          1\n        ],\n        \"semantic_type\": \"\",\n        \"description\": \"\"\n      }\n    },\n    {\n      \"column\": \"buatan\",\n      \"properties\": {\n        \"dtype\": \"number\",\n        \"std\": 0,\n        \"min\": 0,\n        \"max\": 1,\n        \"num_unique_values\": 2,\n        \"samples\": [\n          1,\n          0\n        ],\n        \"semantic_type\": \"\",\n        \"description\": \"\"\n      }\n    },\n    {\n      \"column\": \"budaya\",\n      \"properties\": {\n        \"dtype\": \"number\",\n        \"std\": 0,\n        \"min\": 0,\n        \"max\": 1,\n        \"num_unique_values\": 2,\n        \"samples\": [\n          1,\n          0\n        ],\n        \"semantic_type\": \"\",\n        \"description\": \"\"\n      }\n    },\n    {\n      \"column\": \"religi\",\n      \"properties\": {\n        \"dtype\": \"number\",\n        \"std\": 0,\n        \"min\": 0,\n        \"max\": 1,\n        \"num_unique_values\": 2,\n        \"samples\": [\n          1,\n          0\n        ],\n        \"semantic_type\": \"\",\n        \"description\": \"\"\n      }\n    },\n    {\n      \"column\": \"edukasi\",\n      \"properties\": {\n        \"dtype\": \"number\",\n        \"std\": 0,\n        \"min\": 0,\n        \"max\": 1,\n        \"num_unique_values\": 2,\n        \"samples\": [\n          1,\n          0\n        ],\n        \"semantic_type\": \"\",\n        \"description\": \"\"\n      }\n    }\n  ]\n}"
            }
          },
          "metadata": {},
          "execution_count": 6
        }
      ]
    },
    {
      "cell_type": "code",
      "source": [
        "# ----------------------------\n",
        "# TOKENIZER & SEQUENCE PREPARATION\n",
        "# ----------------------------\n",
        "\n",
        "texts = df['deskripsi'].tolist()\n",
        "labels = df[['alam', 'buatan', 'budaya', 'religi', 'edukasi']].values\n",
        "\n",
        "max_words = 1000\n",
        "max_len = 50\n",
        "\n",
        "tokenizer = Tokenizer(num_words=max_words)\n",
        "tokenizer.fit_on_texts(texts)\n",
        "sequences = tokenizer.texts_to_sequences(texts)\n",
        "x_data = pad_sequences(sequences, maxlen=max_len)"
      ],
      "metadata": {
        "id": "C4jql-rcXT3T"
      },
      "execution_count": null,
      "outputs": []
    },
    {
      "cell_type": "markdown",
      "source": [
        "Kode di atas mempersiapkan data teks dengan mengubah deskripsi tempat wisata menjadi urutan angka menggunakan Tokenizer dan membatasi jumlah kata hingga 1000 kata yang paling sering muncul. Kemudian, urutan angka tersebut dipadatkan agar memiliki panjang yang konsisten, yaitu 50 kata, sehingga siap digunakan dalam pelatihan model machine learning."
      ],
      "metadata": {
        "id": "G8LZu2Pewk2M"
      }
    },
    {
      "cell_type": "code",
      "source": [
        "# Split train-val (simple split)\n",
        "train_size = int(len(x_data) * 0.8)\n",
        "x_train, x_val = x_data[:train_size], x_data[train_size:]\n",
        "y_train, y_val = labels[:train_size], labels[train_size:]"
      ],
      "metadata": {
        "id": "6pZ3WciDXVrB"
      },
      "execution_count": null,
      "outputs": []
    },
    {
      "cell_type": "markdown",
      "source": [
        "Kode di atas membagi data menjadi dua bagian: data pelatihan (train) dan data validasi (val). 80% dari data digunakan untuk pelatihan (x_train, y_train), sementara 20% sisanya digunakan untuk validasi (x_val, y_val)"
      ],
      "metadata": {
        "id": "QoZwBCt7wu5H"
      }
    },
    {
      "cell_type": "code",
      "source": [
        "# ----------------------------\n",
        "# MODEL BUILDING (LSTM)\n",
        "# ----------------------------\n",
        "\n",
        "input_layer = Input(shape=(max_len,))\n",
        "embedding_layer = Embedding(input_dim=max_words, output_dim=64, input_length=max_len)(input_layer)\n",
        "\n",
        "# LSTM layer\n",
        "lstm_layer = LSTM(128, return_sequences=False)(embedding_layer)\n",
        "\n",
        "# Optional Dropout layer to avoid overfitting\n",
        "dropout_layer = Dropout(0.5)(lstm_layer)\n",
        "\n",
        "# Dense layer for further representation\n",
        "dense_layer = Dense(64, activation='relu')(dropout_layer)\n",
        "\n",
        "# Output layer\n",
        "output_layer = Dense(5, activation='sigmoid')(dense_layer)\n",
        "\n",
        "# Create model\n",
        "model_lstm = Model(inputs=input_layer, outputs=output_layer)\n",
        "\n",
        "# Compile the model\n",
        "model_lstm.compile(loss='binary_crossentropy', optimizer='adam', metrics=['accuracy'])\n",
        "\n",
        "# Summary of the LSTM model\n",
        "print(model_lstm.summary())\n"
      ],
      "metadata": {
        "colab": {
          "base_uri": "https://localhost:8080/",
          "height": 393
        },
        "id": "y3sRQYaJXXSF",
        "outputId": "6d382bce-79ca-42a0-fc99-800f203e57a0"
      },
      "execution_count": null,
      "outputs": [
        {
          "output_type": "stream",
          "name": "stderr",
          "text": [
            "/usr/local/lib/python3.11/dist-packages/keras/src/layers/core/embedding.py:90: UserWarning: Argument `input_length` is deprecated. Just remove it.\n",
            "  warnings.warn(\n"
          ]
        },
        {
          "output_type": "display_data",
          "data": {
            "text/plain": [
              "\u001b[1mModel: \"functional_1\"\u001b[0m\n"
            ],
            "text/html": [
              "<pre style=\"white-space:pre;overflow-x:auto;line-height:normal;font-family:Menlo,'DejaVu Sans Mono',consolas,'Courier New',monospace\"><span style=\"font-weight: bold\">Model: \"functional_1\"</span>\n",
              "</pre>\n"
            ]
          },
          "metadata": {}
        },
        {
          "output_type": "display_data",
          "data": {
            "text/plain": [
              "┏━━━━━━━━━━━━━━━━━━━━━━━━━━━━━━━━━┳━━━━━━━━━━━━━━━━━━━━━━━━┳━━━━━━━━━━━━━━━┓\n",
              "┃\u001b[1m \u001b[0m\u001b[1mLayer (type)                   \u001b[0m\u001b[1m \u001b[0m┃\u001b[1m \u001b[0m\u001b[1mOutput Shape          \u001b[0m\u001b[1m \u001b[0m┃\u001b[1m \u001b[0m\u001b[1m      Param #\u001b[0m\u001b[1m \u001b[0m┃\n",
              "┡━━━━━━━━━━━━━━━━━━━━━━━━━━━━━━━━━╇━━━━━━━━━━━━━━━━━━━━━━━━╇━━━━━━━━━━━━━━━┩\n",
              "│ input_layer_1 (\u001b[38;5;33mInputLayer\u001b[0m)      │ (\u001b[38;5;45mNone\u001b[0m, \u001b[38;5;34m50\u001b[0m)             │             \u001b[38;5;34m0\u001b[0m │\n",
              "├─────────────────────────────────┼────────────────────────┼───────────────┤\n",
              "│ embedding_1 (\u001b[38;5;33mEmbedding\u001b[0m)         │ (\u001b[38;5;45mNone\u001b[0m, \u001b[38;5;34m50\u001b[0m, \u001b[38;5;34m64\u001b[0m)         │        \u001b[38;5;34m64,000\u001b[0m │\n",
              "├─────────────────────────────────┼────────────────────────┼───────────────┤\n",
              "│ lstm (\u001b[38;5;33mLSTM\u001b[0m)                     │ (\u001b[38;5;45mNone\u001b[0m, \u001b[38;5;34m128\u001b[0m)            │        \u001b[38;5;34m98,816\u001b[0m │\n",
              "├─────────────────────────────────┼────────────────────────┼───────────────┤\n",
              "│ dropout (\u001b[38;5;33mDropout\u001b[0m)               │ (\u001b[38;5;45mNone\u001b[0m, \u001b[38;5;34m128\u001b[0m)            │             \u001b[38;5;34m0\u001b[0m │\n",
              "├─────────────────────────────────┼────────────────────────┼───────────────┤\n",
              "│ dense_2 (\u001b[38;5;33mDense\u001b[0m)                 │ (\u001b[38;5;45mNone\u001b[0m, \u001b[38;5;34m64\u001b[0m)             │         \u001b[38;5;34m8,256\u001b[0m │\n",
              "├─────────────────────────────────┼────────────────────────┼───────────────┤\n",
              "│ dense_3 (\u001b[38;5;33mDense\u001b[0m)                 │ (\u001b[38;5;45mNone\u001b[0m, \u001b[38;5;34m5\u001b[0m)              │           \u001b[38;5;34m325\u001b[0m │\n",
              "└─────────────────────────────────┴────────────────────────┴───────────────┘\n"
            ],
            "text/html": [
              "<pre style=\"white-space:pre;overflow-x:auto;line-height:normal;font-family:Menlo,'DejaVu Sans Mono',consolas,'Courier New',monospace\">┏━━━━━━━━━━━━━━━━━━━━━━━━━━━━━━━━━┳━━━━━━━━━━━━━━━━━━━━━━━━┳━━━━━━━━━━━━━━━┓\n",
              "┃<span style=\"font-weight: bold\"> Layer (type)                    </span>┃<span style=\"font-weight: bold\"> Output Shape           </span>┃<span style=\"font-weight: bold\">       Param # </span>┃\n",
              "┡━━━━━━━━━━━━━━━━━━━━━━━━━━━━━━━━━╇━━━━━━━━━━━━━━━━━━━━━━━━╇━━━━━━━━━━━━━━━┩\n",
              "│ input_layer_1 (<span style=\"color: #0087ff; text-decoration-color: #0087ff\">InputLayer</span>)      │ (<span style=\"color: #00d7ff; text-decoration-color: #00d7ff\">None</span>, <span style=\"color: #00af00; text-decoration-color: #00af00\">50</span>)             │             <span style=\"color: #00af00; text-decoration-color: #00af00\">0</span> │\n",
              "├─────────────────────────────────┼────────────────────────┼───────────────┤\n",
              "│ embedding_1 (<span style=\"color: #0087ff; text-decoration-color: #0087ff\">Embedding</span>)         │ (<span style=\"color: #00d7ff; text-decoration-color: #00d7ff\">None</span>, <span style=\"color: #00af00; text-decoration-color: #00af00\">50</span>, <span style=\"color: #00af00; text-decoration-color: #00af00\">64</span>)         │        <span style=\"color: #00af00; text-decoration-color: #00af00\">64,000</span> │\n",
              "├─────────────────────────────────┼────────────────────────┼───────────────┤\n",
              "│ lstm (<span style=\"color: #0087ff; text-decoration-color: #0087ff\">LSTM</span>)                     │ (<span style=\"color: #00d7ff; text-decoration-color: #00d7ff\">None</span>, <span style=\"color: #00af00; text-decoration-color: #00af00\">128</span>)            │        <span style=\"color: #00af00; text-decoration-color: #00af00\">98,816</span> │\n",
              "├─────────────────────────────────┼────────────────────────┼───────────────┤\n",
              "│ dropout (<span style=\"color: #0087ff; text-decoration-color: #0087ff\">Dropout</span>)               │ (<span style=\"color: #00d7ff; text-decoration-color: #00d7ff\">None</span>, <span style=\"color: #00af00; text-decoration-color: #00af00\">128</span>)            │             <span style=\"color: #00af00; text-decoration-color: #00af00\">0</span> │\n",
              "├─────────────────────────────────┼────────────────────────┼───────────────┤\n",
              "│ dense_2 (<span style=\"color: #0087ff; text-decoration-color: #0087ff\">Dense</span>)                 │ (<span style=\"color: #00d7ff; text-decoration-color: #00d7ff\">None</span>, <span style=\"color: #00af00; text-decoration-color: #00af00\">64</span>)             │         <span style=\"color: #00af00; text-decoration-color: #00af00\">8,256</span> │\n",
              "├─────────────────────────────────┼────────────────────────┼───────────────┤\n",
              "│ dense_3 (<span style=\"color: #0087ff; text-decoration-color: #0087ff\">Dense</span>)                 │ (<span style=\"color: #00d7ff; text-decoration-color: #00d7ff\">None</span>, <span style=\"color: #00af00; text-decoration-color: #00af00\">5</span>)              │           <span style=\"color: #00af00; text-decoration-color: #00af00\">325</span> │\n",
              "└─────────────────────────────────┴────────────────────────┴───────────────┘\n",
              "</pre>\n"
            ]
          },
          "metadata": {}
        },
        {
          "output_type": "display_data",
          "data": {
            "text/plain": [
              "\u001b[1m Total params: \u001b[0m\u001b[38;5;34m171,397\u001b[0m (669.52 KB)\n"
            ],
            "text/html": [
              "<pre style=\"white-space:pre;overflow-x:auto;line-height:normal;font-family:Menlo,'DejaVu Sans Mono',consolas,'Courier New',monospace\"><span style=\"font-weight: bold\"> Total params: </span><span style=\"color: #00af00; text-decoration-color: #00af00\">171,397</span> (669.52 KB)\n",
              "</pre>\n"
            ]
          },
          "metadata": {}
        },
        {
          "output_type": "display_data",
          "data": {
            "text/plain": [
              "\u001b[1m Trainable params: \u001b[0m\u001b[38;5;34m171,397\u001b[0m (669.52 KB)\n"
            ],
            "text/html": [
              "<pre style=\"white-space:pre;overflow-x:auto;line-height:normal;font-family:Menlo,'DejaVu Sans Mono',consolas,'Courier New',monospace\"><span style=\"font-weight: bold\"> Trainable params: </span><span style=\"color: #00af00; text-decoration-color: #00af00\">171,397</span> (669.52 KB)\n",
              "</pre>\n"
            ]
          },
          "metadata": {}
        },
        {
          "output_type": "display_data",
          "data": {
            "text/plain": [
              "\u001b[1m Non-trainable params: \u001b[0m\u001b[38;5;34m0\u001b[0m (0.00 B)\n"
            ],
            "text/html": [
              "<pre style=\"white-space:pre;overflow-x:auto;line-height:normal;font-family:Menlo,'DejaVu Sans Mono',consolas,'Courier New',monospace\"><span style=\"font-weight: bold\"> Non-trainable params: </span><span style=\"color: #00af00; text-decoration-color: #00af00\">0</span> (0.00 B)\n",
              "</pre>\n"
            ]
          },
          "metadata": {}
        },
        {
          "output_type": "stream",
          "name": "stdout",
          "text": [
            "None\n"
          ]
        }
      ]
    },
    {
      "cell_type": "markdown",
      "source": [
        "Kode di atas membangun model LSTM untuk klasifikasi teks dengan input berupa deskripsi tempat wisata. Model dimulai dengan embedding layer untuk representasi kata, dilanjutkan dengan LSTM layer untuk memproses urutan teks, dan dropout layer untuk mencegah overfitting. Kemudian, dense layer diikuti dengan output layer yang menggunakan fungsi aktivasi sigmoid untuk memprediksi 5 kategori tipe wisata. Model dikompilasi dengan binary crossentropy dan adam optimizer, serta menggunakan accuracy sebagai metrik evaluasi."
      ],
      "metadata": {
        "id": "rnjT69l1w_hG"
      }
    },
    {
      "cell_type": "code",
      "source": [
        "# ----------------------------\n",
        "# TRAINING (MODIFIKASI)\n",
        "# ----------------------------\n",
        "\n",
        "# Early stopping callback\n",
        "early_stop = EarlyStopping(\n",
        "    monitor='val_loss',\n",
        "    patience=3,\n",
        "    restore_best_weights=True,\n",
        "    verbose=1\n",
        ")\n",
        "\n",
        "# Training model with EarlyStopping\n",
        "history_lstm = model_lstm.fit(\n",
        "    x_train, y_train,\n",
        "    epochs=10,  # Bisa ditingkatkan lebih tinggi\n",
        "    batch_size=16,\n",
        "    validation_data=(x_val, y_val),\n",
        "    callbacks=[early_stop]\n",
        ")\n"
      ],
      "metadata": {
        "colab": {
          "base_uri": "https://localhost:8080/"
        },
        "id": "SCurUHaOXZTz",
        "outputId": "a4203456-6223-4371-cc6f-bee2d946ac5a"
      },
      "execution_count": null,
      "outputs": [
        {
          "output_type": "stream",
          "name": "stdout",
          "text": [
            "Epoch 1/10\n",
            "\u001b[1m44/44\u001b[0m \u001b[32m━━━━━━━━━━━━━━━━━━━━\u001b[0m\u001b[37m\u001b[0m \u001b[1m2s\u001b[0m 39ms/step - accuracy: 0.7953 - loss: 0.1460 - val_accuracy: 0.8621 - val_loss: 0.2040\n",
            "Epoch 2/10\n",
            "\u001b[1m44/44\u001b[0m \u001b[32m━━━━━━━━━━━━━━━━━━━━\u001b[0m\u001b[37m\u001b[0m \u001b[1m2s\u001b[0m 57ms/step - accuracy: 0.8088 - loss: 0.1383 - val_accuracy: 0.8103 - val_loss: 0.1903\n",
            "Epoch 3/10\n",
            "\u001b[1m44/44\u001b[0m \u001b[32m━━━━━━━━━━━━━━━━━━━━\u001b[0m\u001b[37m\u001b[0m \u001b[1m2s\u001b[0m 44ms/step - accuracy: 0.7684 - loss: 0.1177 - val_accuracy: 0.8448 - val_loss: 0.1936\n",
            "Epoch 4/10\n",
            "\u001b[1m44/44\u001b[0m \u001b[32m━━━━━━━━━━━━━━━━━━━━\u001b[0m\u001b[37m\u001b[0m \u001b[1m2s\u001b[0m 39ms/step - accuracy: 0.8204 - loss: 0.1026 - val_accuracy: 0.8046 - val_loss: 0.1740\n",
            "Epoch 5/10\n",
            "\u001b[1m44/44\u001b[0m \u001b[32m━━━━━━━━━━━━━━━━━━━━\u001b[0m\u001b[37m\u001b[0m \u001b[1m3s\u001b[0m 39ms/step - accuracy: 0.8164 - loss: 0.0995 - val_accuracy: 0.8333 - val_loss: 0.1980\n",
            "Epoch 6/10\n",
            "\u001b[1m44/44\u001b[0m \u001b[32m━━━━━━━━━━━━━━━━━━━━\u001b[0m\u001b[37m\u001b[0m \u001b[1m2s\u001b[0m 38ms/step - accuracy: 0.8182 - loss: 0.0887 - val_accuracy: 0.8103 - val_loss: 0.1841\n",
            "Epoch 7/10\n",
            "\u001b[1m44/44\u001b[0m \u001b[32m━━━━━━━━━━━━━━━━━━━━\u001b[0m\u001b[37m\u001b[0m \u001b[1m2s\u001b[0m 37ms/step - accuracy: 0.7693 - loss: 0.0888 - val_accuracy: 0.8563 - val_loss: 0.1830\n",
            "Epoch 7: early stopping\n",
            "Restoring model weights from the end of the best epoch: 4.\n"
          ]
        }
      ]
    },
    {
      "cell_type": "markdown",
      "source": [
        "Kode di atas melatih model LSTM dengan early stopping untuk menghentikan pelatihan jika val_loss tidak membaik selama 3 epoch. Pelatihan dilakukan selama 10 epoch dengan batch size 16, menggunakan data validasi untuk evaluasi."
      ],
      "metadata": {
        "id": "EJiS-QcLxuGs"
      }
    },
    {
      "cell_type": "code",
      "source": [
        "# Definisikan label_names\n",
        "label_names = ['alam', 'buatan', 'budaya', 'religi', 'edukasi']\n",
        "\n",
        "# ----------------------------\n",
        "# EVALUASI MODEL\n",
        "# ----------------------------\n",
        "\n",
        "# Evaluasi model pada set validasi\n",
        "loss, accuracy = model_lstm.evaluate(x_val, y_val, verbose=0)\n",
        "print(f\"\\nEvaluasi Model LSTM pada Set Validasi:\")\n",
        "print(f\"Loss: {loss:.4f}\")\n",
        "print(f\"Akurasi: {accuracy:.4f}\")\n",
        "\n",
        "# Prediksi probabilitas pada set validasi\n",
        "y_pred_probs_lstm = model_lstm.predict(x_val)\n",
        "\n",
        "# Mengonversi probabilitas menjadi prediksi biner menggunakan ambang batas (misalnya, 0.5)\n",
        "y_pred_bin_lstm = (y_pred_probs_lstm >= 0.5).astype(int)\n",
        "\n",
        "# Laporan klasifikasi untuk model LSTM\n",
        "print(\"\\nLaporan Klasifikasi pada Set Validasi untuk Model LSTM:\")\n",
        "print(classification_report(y_val, y_pred_bin_lstm, target_names=label_names, zero_division=0))\n"
      ],
      "metadata": {
        "colab": {
          "base_uri": "https://localhost:8080/"
        },
        "id": "Cb6CQIGrc9HV",
        "outputId": "1067dfd9-40df-448c-8845-70b5bfa8f707"
      },
      "execution_count": null,
      "outputs": [
        {
          "output_type": "stream",
          "name": "stdout",
          "text": [
            "\n",
            "Evaluasi Model LSTM pada Set Validasi:\n",
            "Loss: 0.1740\n",
            "Akurasi: 0.8046\n",
            "\u001b[1m6/6\u001b[0m \u001b[32m━━━━━━━━━━━━━━━━━━━━\u001b[0m\u001b[37m\u001b[0m \u001b[1m0s\u001b[0m 47ms/step\n",
            "\n",
            "Laporan Klasifikasi pada Set Validasi untuk Model LSTM:\n",
            "              precision    recall  f1-score   support\n",
            "\n",
            "        alam       0.96      0.97      0.97       145\n",
            "      buatan       0.98      0.84      0.90        55\n",
            "      budaya       0.86      0.67      0.75        36\n",
            "      religi       0.89      0.73      0.80        11\n",
            "     edukasi       0.74      0.87      0.80        23\n",
            "\n",
            "   micro avg       0.93      0.89      0.91       270\n",
            "   macro avg       0.88      0.81      0.84       270\n",
            "weighted avg       0.93      0.89      0.90       270\n",
            " samples avg       0.96      0.93      0.93       270\n",
            "\n"
          ]
        }
      ]
    },
    {
      "cell_type": "markdown",
      "source": [
        "Kode di atas mengevaluasi model LSTM pada data validasi dengan menghitung loss dan akurasi, lalu mengonversi prediksi probabilitas menjadi prediksi biner. Laporan klasifikasi kemudian ditampilkan untuk masing-masing kategori tipe wisata, memberikan metrik seperti precision, recall, dan f1-score.\n",
        "\n",
        "\n",
        "\n",
        "\n",
        "\n",
        "\n"
      ],
      "metadata": {
        "id": "bRuo7k8Ex4UV"
      }
    },
    {
      "cell_type": "code",
      "source": [
        "# ----------------------------\n",
        "# PREDIKSI LABEL DARI INPUT USER\n",
        "# ----------------------------\n",
        "\n",
        "def predict_labels(text):\n",
        "    seq = tokenizer.texts_to_sequences([text])\n",
        "    padded = pad_sequences(seq, maxlen=max_len)\n",
        "    preds = model_lstm.predict(padded)[0]\n",
        "    labels_pred = {label: float(preds[i]) for i, label in enumerate(['alam', 'buatan', 'budaya', 'religi', 'edukasi'])}\n",
        "    # Threshold 0.5 untuk keputusan 0/1\n",
        "    labels_bin = {k: int(v >= 0.5) for k, v in labels_pred.items()}\n",
        "    return labels_bin, labels_pred\n"
      ],
      "metadata": {
        "id": "jnm8S2YeXfFw"
      },
      "execution_count": null,
      "outputs": []
    },
    {
      "cell_type": "markdown",
      "source": [
        "Kode di atas mendefinisikan fungsi predict_labels yang mengubah input teks menjadi urutan angka, memprediksi probabilitas dengan model LSTM, dan mengonversinya menjadi prediksi biner menggunakan ambang batas 0.5. Fungsi ini mengembalikan hasil prediksi dalam bentuk biner dan probabilitas untuk setiap tipe wisata."
      ],
      "metadata": {
        "id": "gCkeRiJ3x_xT"
      }
    },
    {
      "cell_type": "code",
      "source": [
        "# ----------------------------\n",
        "# REKOMENDASI BERBASIS SIMILARITY DENGAN THRESHOLD\n",
        "# ----------------------------\n",
        "\n",
        "def recommend_places(user_province, user_labels, user_description, df, top_n=10, threshold=0.10):\n",
        "    # Filter provinsi\n",
        "    filtered_df = df[df['province'].str.lower() == user_province.lower()]\n",
        "    if filtered_df.empty:\n",
        "        return \"Maaf, tidak ada tempat di provinsi tersebut.\"\n",
        "\n",
        "    # Filter tipe wisata sesuai input user (minimal satu tipe match)\n",
        "    selected_labels = [label for label, val in user_labels.items() if val == 1]\n",
        "    if not selected_labels:\n",
        "        return \"Mohon pilih minimal satu tipe wisata.\"\n",
        "\n",
        "    mask = filtered_df[selected_labels].sum(axis=1) > 0\n",
        "    filtered_df = filtered_df[mask]\n",
        "    if filtered_df.empty:\n",
        "        return \"Maaf, tidak ada tempat dengan tipe wisata tersebut di provinsi itu.\"\n",
        "\n",
        "    # Vektorisasi dengan TF-IDF\n",
        "    corpus = filtered_df['deskripsi'].tolist()\n",
        "    corpus_with_query = corpus + [user_description]\n",
        "    vectorizer = TfidfVectorizer()\n",
        "    tfidf_matrix = vectorizer.fit_transform(corpus_with_query)\n",
        "\n",
        "    cosine_sim = cosine_similarity(tfidf_matrix[-1], tfidf_matrix[:-1]).flatten()\n",
        "\n",
        "    # Filter berdasarkan threshold\n",
        "    top_indices = cosine_sim.argsort()[::-1]\n",
        "    top_indices = [idx for idx in top_indices if cosine_sim[idx] >= threshold][:top_n]  # Terapkan threshold\n",
        "\n",
        "    # Jika tidak ada tempat yang memenuhi threshold\n",
        "    if len(top_indices) == 0:\n",
        "        return \"Maaf, tidak ada tempat dengan kemiripan yang cukup di provinsi tersebut.\"\n",
        "\n",
        "    recommendations = filtered_df.iloc[top_indices]\n",
        "\n",
        "    result = []\n",
        "    for idx, score in zip(top_indices, cosine_sim[top_indices]):\n",
        "        place = filtered_df.iloc[idx]\n",
        "        result.append({\n",
        "            'place_name': place['place_name'],\n",
        "            'province': place['province'],\n",
        "            'deskripsi': place['deskripsi'],\n",
        "            'gambar': place['gambar'],\n",
        "            'similarity_score': float(score)\n",
        "        })\n",
        "\n",
        "    return result"
      ],
      "metadata": {
        "id": "N6BcQPrdXhfG"
      },
      "execution_count": null,
      "outputs": []
    },
    {
      "cell_type": "markdown",
      "source": [
        "Kode di atas mendefinisikan fungsi recommend_places yang memberikan rekomendasi tempat wisata berdasarkan kemiripan deskripsi dengan input pengguna. Fungsi ini memfilter data berdasarkan provinsi dan tipe wisata, lalu menghitung cosine similarity antara deskripsi input dan dataset. Tempat dengan skor kemiripan di atas threshold akan dikembalikan sebagai rekomendasi. Jika tidak ada tempat yang cocok, pesan yang sesuai akan ditampilkan."
      ],
      "metadata": {
        "id": "a66A31QRyeGb"
      }
    },
    {
      "cell_type": "code",
      "source": [
        "# ----------------------------\n",
        "# INTERAKSI USER (INPUT LANGSUNG)\n",
        "# ----------------------------\n",
        "\n",
        "print(\"\\n==== SISTEM REKOMENDASI WISATA ====\\n\")\n",
        "\n",
        "# Input langsung dari user\n",
        "user_province = input(\"Masukkan provinsi tujuan wisata: \").strip()\n",
        "\n",
        "tipe_input = input(\"Masukkan tipe wisata yang diinginkan (pisahkan dengan koma, contoh: alam, budaya, religi): \").strip().lower()\n",
        "selected_labels_input = [tipe.strip() for tipe in tipe_input.split(\",\")]\n",
        "\n",
        "user_input_desc = input(\"Masukkan ciri-ciri tempat wisata (kalimat bebas): \").strip()\n",
        "\n",
        "# Validasi dan buat dictionary tipe wisata\n",
        "all_labels = ['alam', 'buatan', 'budaya', 'religi', 'edukasi']\n",
        "selected_labels = {label: 1 if label in selected_labels_input else 0 for label in all_labels}\n",
        "\n",
        "# Cetak ringkasan input user\n",
        "print(\"\\n=== RINGKASAN INPUT USER ===\")\n",
        "print(\"Provinsi:\", user_province)\n",
        "print(\"Tipe wisata dipilih:\", [k for k, v in selected_labels.items() if v == 1])\n",
        "print(\"Ciri-ciri input:\", user_input_desc)\n",
        "\n",
        "# Prediksi tipe wisata dari deskripsi\n",
        "user_labels_bin, user_labels_prob = predict_labels(user_input_desc)\n",
        "print(\"\\n=== Prediksi Sistem Berdasarkan Ciri-ciri ===\")\n",
        "print(\"Probabilitas Label:\", {k: f\"{v:.2f}\" for k,v in user_labels_prob.items()})\n",
        "\n",
        "# Jalankan rekomendasi\n",
        "recommendations = recommend_places(user_province, selected_labels, user_input_desc, df, top_n=10)\n",
        "\n",
        "# Tampilkan hasil\n",
        "if isinstance(recommendations, str):\n",
        "    print(\"\\n\" + recommendations)\n",
        "else:\n",
        "    print(\"\\n=== Rekomendasi Tempat Wisata ===\\n\")\n",
        "    for i, rec in enumerate(recommendations, 1):\n",
        "        print(f\"{i}. Nama Tempat : {rec['place_name']}\")\n",
        "        print(f\"   Provinsi    : {rec['province']}\")\n",
        "        print(f\"   Deskripsi   : {rec['deskripsi']}\")\n",
        "        print(f\"   Gambar      : {rec['gambar']}\")\n",
        "        print(f\"   Skor Kemiripan: {rec['similarity_score']:.4f}\")\n",
        "        print(\"-\" * 50)\n"
      ],
      "metadata": {
        "colab": {
          "base_uri": "https://localhost:8080/"
        },
        "id": "TVg2_qlhXjK8",
        "outputId": "63df5aca-e5ab-4e74-a5b1-6f8f678b8ff0"
      },
      "execution_count": null,
      "outputs": [
        {
          "output_type": "stream",
          "name": "stdout",
          "text": [
            "\n",
            "==== SISTEM REKOMENDASI WISATA ====\n",
            "\n",
            "Masukkan provinsi tujuan wisata: jawa barat\n",
            "Masukkan tipe wisata yang diinginkan (pisahkan dengan koma, contoh: alam, budaya, religi): alam\n",
            "Masukkan ciri-ciri tempat wisata (kalimat bebas): gunung yang indah\n",
            "\n",
            "=== RINGKASAN INPUT USER ===\n",
            "Provinsi: jawa barat\n",
            "Tipe wisata dipilih: ['alam']\n",
            "Ciri-ciri input: gunung yang indah\n",
            "\u001b[1m1/1\u001b[0m \u001b[32m━━━━━━━━━━━━━━━━━━━━\u001b[0m\u001b[37m\u001b[0m \u001b[1m0s\u001b[0m 46ms/step\n",
            "\n",
            "=== Prediksi Sistem Berdasarkan Ciri-ciri ===\n",
            "Probabilitas Label: {'alam': '0.23', 'buatan': '0.19', 'budaya': '0.92', 'religi': '0.70', 'edukasi': '0.11'}\n",
            "\n",
            "=== Rekomendasi Tempat Wisata ===\n",
            "\n",
            "1. Nama Tempat : Gunung Padang\n",
            "   Provinsi    : jawa barat\n",
            "   Deskripsi   : Gunung Padang adalah situs megalitikum prasejarah yang menawarkan wisata budaya dan sejarah yang mendalam. Pengunjung dapat menjelajahi peninggalan purbakala dan belajar tentang peradaban kuno yang pernah mendiami area ini.\n",
            "   Gambar      : Gunung Padang.jpg\n",
            "   Skor Kemiripan: 0.2022\n",
            "--------------------------------------------------\n",
            "2. Nama Tempat : Mount Gede Pangrango National Park\n",
            "   Provinsi    : jawa barat\n",
            "   Deskripsi   : Mount Gede Pangrango National Park adalah surga wisata alam pegunungan yang menawarkan keindahan hutan tropis, air terjun, dan pendakian gunung. Taman nasional ini menjadi rumah bagi beragam flora dan fauna endemik.\n",
            "   Gambar      : Mount Gede Pangrango National Park.jpg\n",
            "   Skor Kemiripan: 0.1768\n",
            "--------------------------------------------------\n",
            "3. Nama Tempat : Gunung Mas Agrotourism\n",
            "   Provinsi    : jawa barat\n",
            "   Deskripsi   : Gunung Mas Agrotourism menawarkan pengalaman wisata alam dan edukasi di perkebunan teh yang luas. Pengunjung dapat belajar tentang proses pembuatan teh, menikmati pemandangan hijau, serta mencoba berbagai aktivitas menarik seperti tea walk dan off-road.\n",
            "   Gambar      : Gunung Mas Agrotourism.jpg\n",
            "   Skor Kemiripan: 0.1713\n",
            "--------------------------------------------------\n",
            "4. Nama Tempat : Jembatan Gantung Situ Gunung 555\n",
            "   Provinsi    : jawa barat\n",
            "   Deskripsi   : Jembatan Gantung Situ Gunung 555 adalah destinasi wisata alam yang menawarkan pengalaman berjalan di atas jembatan gantung terpanjang di Asia Tenggara. Dari jembatan ini, pengunjung dapat menikmati pemandangan hutan dan lembah yang menakjubkan.\n",
            "   Gambar      : Jembatan Gantung Situ Gunung 555.jpeg\n",
            "   Skor Kemiripan: 0.1698\n",
            "--------------------------------------------------\n",
            "5. Nama Tempat : Pemandian Air Panas Ciater\n",
            "   Provinsi    : jawa barat\n",
            "   Deskripsi   : Pemandian Air Panas Ciater adalah destinasi wisata alam yang menawarkan pemandian air panas alami bersumber dari gunung berapi. Air panas ini dipercaya memiliki khasiat kesehatan dan cocok untuk relaksasi dan terapi.\n",
            "   Gambar      : Pemandian Air Panas Ciater.jpg\n",
            "   Skor Kemiripan: 0.1665\n",
            "--------------------------------------------------\n",
            "6. Nama Tempat : Pantai Cemara Indah ( CI )\n",
            "   Provinsi    : jawa barat\n",
            "   Deskripsi   : Pantai Cemara Indah (CI) adalah pantai yang menawarkan wisata alam dengan deretan pohon cemara yang rindang. Suasana tenang dan pemandangan yang indah menjadikannya tempat yang cocok untuk bersantai dan piknik.\n",
            "   Gambar      : Pantai Cemara Indah ( CI ).jpg\n",
            "   Skor Kemiripan: 0.1564\n",
            "--------------------------------------------------\n",
            "7. Nama Tempat : Pantai BALI (Balongan Indah),Indramayu\n",
            "   Provinsi    : jawa barat\n",
            "   Deskripsi   : Pantai BALI (Balongan Indah), Indramayu, adalah destinasi wisata alam pantai yang menawarkan pemandangan indah dan fasilitas rekreasi. Cocok untuk bersantai, berenang, dan menikmati suasana pantai.\n",
            "   Gambar      : Pantai BALI (Balongan Indah),Indramayu.jpg\n",
            "   Skor Kemiripan: 0.1350\n",
            "--------------------------------------------------\n",
            "8. Nama Tempat : Situ Cipanten\n",
            "   Provinsi    : jawa barat\n",
            "   Deskripsi   : Situ Cipanten adalah danau alami yang menawarkan wisata alam dengan pemandangan yang indah dan suasana yang tenang. Cocok untuk memancing, berperahu, atau sekadar bersantai menikmati ketenangan alam.\n",
            "   Gambar      : Situ Cipanten.jpg\n",
            "   Skor Kemiripan: 0.1227\n",
            "--------------------------------------------------\n",
            "9. Nama Tempat : Situ Batu Karut\n",
            "   Provinsi    : jawa barat\n",
            "   Deskripsi   : Situ Batu Karut adalah destinasi wisata alam yang menawarkan pemandangan danau yang indah dan suasana yang tenang. Tempat ini cocok untuk memancing, berperahu, atau sekadar bersantai menikmati ketenangan alam.\n",
            "   Gambar      : Situ Batu Karut.jpg\n",
            "   Skor Kemiripan: 0.1192\n",
            "--------------------------------------------------\n",
            "10. Nama Tempat : Curug Cikondang\n",
            "   Provinsi    : jawa barat\n",
            "   Deskripsi   : Curug Cikondang menawarkan pesona wisata alam air terjun yang indah dengan kolam alami yang jernih. Tempat ini cocok untuk berenang, bersantai, dan menikmati keindahan alam yang masih asri.\n",
            "   Gambar      : Curug Cikondang.jpg\n",
            "   Skor Kemiripan: 0.1179\n",
            "--------------------------------------------------\n"
          ]
        }
      ]
    },
    {
      "cell_type": "markdown",
      "source": [
        "Kode di atas memungkinkan pengguna untuk memasukkan provinsi, tipe wisata, dan deskripsi tempat wisata. Sistem kemudian memvalidasi input, memprediksi tipe wisata berdasarkan deskripsi, dan memberikan rekomendasi tempat wisata yang sesuai dengan provinsi dan tipe yang dipilih. Hasil rekomendasi mencakup nama tempat, provinsi, deskripsi, gambar, dan skor kemiripan."
      ],
      "metadata": {
        "id": "VacYBdnCyrTH"
      }
    },
    {
      "cell_type": "code",
      "source": [
        "model_lstm.save('multilabel_model.h5')\n",
        "\n",
        "import pickle\n",
        "with open('tokenizer.pkl', 'wb') as f:\n",
        "    pickle.dump(tokenizer, f)\n"
      ],
      "metadata": {
        "colab": {
          "base_uri": "https://localhost:8080/"
        },
        "id": "GOxzoqlWX-sp",
        "outputId": "fc223a09-9044-4771-8d3d-628a011e3fa1"
      },
      "execution_count": null,
      "outputs": [
        {
          "output_type": "stream",
          "name": "stderr",
          "text": [
            "WARNING:absl:You are saving your model as an HDF5 file via `model.save()` or `keras.saving.save_model(model)`. This file format is considered legacy. We recommend using instead the native Keras format, e.g. `model.save('my_model.keras')` or `keras.saving.save_model(model, 'my_model.keras')`. \n"
          ]
        }
      ]
    },
    {
      "cell_type": "markdown",
      "source": [
        "Menyimpan model dan tokenizer"
      ],
      "metadata": {
        "id": "fYUOk3Iuytsx"
      }
    },
    {
      "cell_type": "code",
      "source": [
        "df.to_excel('java.xlsx', index=False)\n"
      ],
      "metadata": {
        "id": "NAV29BWdbhoD"
      },
      "execution_count": null,
      "outputs": []
    },
    {
      "cell_type": "markdown",
      "source": [
        "menyimpan dataframe ke excel"
      ],
      "metadata": {
        "id": "ex4Km-e3yxF5"
      }
    },
    {
      "cell_type": "code",
      "source": [
        "from google.colab import files\n",
        "files.download('java.xlsx')"
      ],
      "metadata": {
        "colab": {
          "base_uri": "https://localhost:8080/",
          "height": 17
        },
        "id": "YdVDyux2bm9g",
        "outputId": "d154a7aa-29fc-4c8a-d104-77710965b04a"
      },
      "execution_count": null,
      "outputs": [
        {
          "output_type": "display_data",
          "data": {
            "text/plain": [
              "<IPython.core.display.Javascript object>"
            ],
            "application/javascript": [
              "\n",
              "    async function download(id, filename, size) {\n",
              "      if (!google.colab.kernel.accessAllowed) {\n",
              "        return;\n",
              "      }\n",
              "      const div = document.createElement('div');\n",
              "      const label = document.createElement('label');\n",
              "      label.textContent = `Downloading \"${filename}\": `;\n",
              "      div.appendChild(label);\n",
              "      const progress = document.createElement('progress');\n",
              "      progress.max = size;\n",
              "      div.appendChild(progress);\n",
              "      document.body.appendChild(div);\n",
              "\n",
              "      const buffers = [];\n",
              "      let downloaded = 0;\n",
              "\n",
              "      const channel = await google.colab.kernel.comms.open(id);\n",
              "      // Send a message to notify the kernel that we're ready.\n",
              "      channel.send({})\n",
              "\n",
              "      for await (const message of channel.messages) {\n",
              "        // Send a message to notify the kernel that we're ready.\n",
              "        channel.send({})\n",
              "        if (message.buffers) {\n",
              "          for (const buffer of message.buffers) {\n",
              "            buffers.push(buffer);\n",
              "            downloaded += buffer.byteLength;\n",
              "            progress.value = downloaded;\n",
              "          }\n",
              "        }\n",
              "      }\n",
              "      const blob = new Blob(buffers, {type: 'application/binary'});\n",
              "      const a = document.createElement('a');\n",
              "      a.href = window.URL.createObjectURL(blob);\n",
              "      a.download = filename;\n",
              "      div.appendChild(a);\n",
              "      a.click();\n",
              "      div.remove();\n",
              "    }\n",
              "  "
            ]
          },
          "metadata": {}
        },
        {
          "output_type": "display_data",
          "data": {
            "text/plain": [
              "<IPython.core.display.Javascript object>"
            ],
            "application/javascript": [
              "download(\"download_7983545d-44cf-4ddd-84da-a201119652a1\", \"java.xlsx\", 182053)"
            ]
          },
          "metadata": {}
        }
      ]
    }
  ]
}